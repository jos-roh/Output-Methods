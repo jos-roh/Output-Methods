{
 "cells": [
  {
   "cell_type": "code",
   "execution_count": 1,
   "id": "4c74b2af",
   "metadata": {},
   "outputs": [
    {
     "name": "stdout",
     "output_type": "stream",
     "text": [
      "Hello, World!\n"
     ]
    }
   ],
   "source": [
    "print(\"Hello, World!\")"
   ]
  },
  {
   "cell_type": "code",
   "execution_count": 2,
   "id": "8c6beb34",
   "metadata": {},
   "outputs": [
    {
     "name": "stdout",
     "output_type": "stream",
     "text": [
      "Enter a number : 10\n",
      "10  *  1  =  10\n",
      "10  *  2  =  20\n",
      "10  *  3  =  30\n",
      "10  *  4  =  40\n",
      "10  *  5  =  50\n",
      "10  *  6  =  60\n",
      "10  *  7  =  70\n",
      "10  *  8  =  80\n",
      "10  *  9  =  90\n",
      "10  *  10  =  100\n"
     ]
    }
   ],
   "source": [
    "a=int(input(\"Enter a number : \"))\n",
    "for i in range(1,11):\n",
    "    print(a,\" * \",i,\" = \",a*i)\n"
   ]
  },
  {
   "cell_type": "code",
   "execution_count": 5,
   "id": "19bf73d0",
   "metadata": {},
   "outputs": [
    {
     "name": "stdout",
     "output_type": "stream",
     "text": [
      "Enter a number : 10\n",
      "10\n",
      "9\n",
      "8\n",
      "7\n",
      "6\n",
      "5\n",
      "4\n",
      "3\n",
      "2\n",
      "1\n",
      "Blast-off!\n"
     ]
    }
   ],
   "source": [
    "num=int(input(\"Enter a number : \"))\n",
    "while num>=1:\n",
    "    print(num)\n",
    "    num-=1\n",
    "print(\"Blast-off!\")"
   ]
  },
  {
   "cell_type": "code",
   "execution_count": 9,
   "id": "e3738563",
   "metadata": {},
   "outputs": [
    {
     "name": "stdout",
     "output_type": "stream",
     "text": [
      "Enter the number of rows : 5\n",
      "*****\n",
      "****\n",
      "***\n",
      "**\n",
      "*\n"
     ]
    }
   ],
   "source": [
    "rows=int(input(\"Enter the number of rows : \"))\n",
    "for i in range(0,rows):\n",
    "    for j in range(0,rows):\n",
    "        print(\"*\",end=\"\")\n",
    "    print('')"
   ]
  },
  {
   "cell_type": "code",
   "execution_count": 14,
   "id": "ab9a4397",
   "metadata": {},
   "outputs": [
    {
     "name": "stdout",
     "output_type": "stream",
     "text": [
      "1\n",
      "12\n",
      "123\n",
      "1234\n"
     ]
    }
   ],
   "source": [
    "rows=4\n",
    "for i in range(1,rows+1):\n",
    "    for j in range(1,i+1):\n",
    "        print(j,end=\"\")\n",
    "    print('')"
   ]
  },
  {
   "cell_type": "code",
   "execution_count": 15,
   "id": "0d47b994",
   "metadata": {},
   "outputs": [
    {
     "name": "stdout",
     "output_type": "stream",
     "text": [
      "Enter a number : 10\n",
      "55\n"
     ]
    }
   ],
   "source": [
    "number=int(input(\"Enter a number : \"))\n",
    "sum=0\n",
    "for i in range(1,number+1):\n",
    "    sum+=i\n",
    "print(sum)"
   ]
  },
  {
   "cell_type": "code",
   "execution_count": 17,
   "id": "6b1d30cd",
   "metadata": {},
   "outputs": [
    {
     "name": "stdout",
     "output_type": "stream",
     "text": [
      "Enter a character : &\n",
      "Enter a number : 5\n",
      "&&&&&\n",
      "&&&&&\n",
      "&&&&&\n",
      "&&&&&\n",
      "&&&&&\n"
     ]
    }
   ],
   "source": [
    "character=input(\"Enter a character : \")\n",
    "num=int(input(\"Enter a number : \"))\n",
    "for i in range(0,num):\n",
    "    for j in range(0,num):\n",
    "        print(character,end='')\n",
    "    print()"
   ]
  },
  {
   "cell_type": "code",
   "execution_count": 19,
   "id": "60933aed",
   "metadata": {},
   "outputs": [
    {
     "name": "stdout",
     "output_type": "stream",
     "text": [
      "Enter a positive integer : 5\n",
      "120\n"
     ]
    }
   ],
   "source": [
    "pos=int(input(\"Enter a positive integer : \"))\n",
    "def fact(pos):\n",
    "    if pos==0 or pos==1:\n",
    "        return 1\n",
    "    else:\n",
    "        return pos*(fact(pos-1))\n",
    "factorial=fact(pos)\n",
    "print(factorial)"
   ]
  },
  {
   "cell_type": "code",
   "execution_count": 22,
   "id": "b9244973",
   "metadata": {},
   "outputs": [
    {
     "name": "stdout",
     "output_type": "stream",
     "text": [
      "Enter the weight in kg : 44\n",
      "Enter the height in m: 1.6\n",
      "Underweight\n"
     ]
    }
   ],
   "source": [
    "weight=float(input(\"Enter the weight in kg : \"))\n",
    "height=float(input(\"Enter the height in m: \"))\n",
    "bmi=weight/(height*height)\n",
    "if bmi<18.5:\n",
    "    print(\"Underweight\")\n",
    "elif bmi<24.9:\n",
    "    print(\"Normal\")\n",
    "elif bmi<29.9:\n",
    "    print(\"Overweight\")\n",
    "else:\n",
    "    print(\"Obese\")"
   ]
  },
  {
   "cell_type": "code",
   "execution_count": 23,
   "id": "b552f3c0",
   "metadata": {},
   "outputs": [
    {
     "name": "stdout",
     "output_type": "stream",
     "text": [
      "Enter the principal amount : 100\n",
      "Enter the rate of interest : 5\n",
      "Enter the time in years : 2\n",
      "Simple interest :  10.0\n"
     ]
    }
   ],
   "source": [
    "principal=int(input(\"Enter the principal amount : \"))\n",
    "rate=int(input(\"Enter the rate of interest : \"))\n",
    "time=int(input(\"Enter the time in years : \"))\n",
    "si=(principal*rate*time)/100\n",
    "print(\"Simple interest : \",si)"
   ]
  },
  {
   "cell_type": "code",
   "execution_count": null,
   "id": "9fce14ad",
   "metadata": {},
   "outputs": [],
   "source": []
  }
 ],
 "metadata": {
  "kernelspec": {
   "display_name": "Python 3 (ipykernel)",
   "language": "python",
   "name": "python3"
  },
  "language_info": {
   "codemirror_mode": {
    "name": "ipython",
    "version": 3
   },
   "file_extension": ".py",
   "mimetype": "text/x-python",
   "name": "python",
   "nbconvert_exporter": "python",
   "pygments_lexer": "ipython3",
   "version": "3.11.3"
  }
 },
 "nbformat": 4,
 "nbformat_minor": 5
}
